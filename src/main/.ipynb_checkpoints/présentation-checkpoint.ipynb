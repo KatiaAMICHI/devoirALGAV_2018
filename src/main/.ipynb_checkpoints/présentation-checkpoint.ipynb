{
 "cells": [
  {
   "cell_type": "code",
   "execution_count": null,
   "metadata": {},
   "outputs": [],
   "source": [
    "import time\n",
    "from collections import OrderedDict\n",
    "\n",
    "from src.main.FileReader import Shakespeare, FileReader, plot, plot3\n",
    "from src.main.binomialHeap.binomialHeap import BinomialHeap\n",
    "from src.main.heap.ArrayMinHeap import ArrayMinHeap\n",
    "from src.main.heap.TreeMinHeap.BinaryTreeMinHeap import BinaryTreeMinHeap\n",
    "from src.main.searchTree.AVLTree import AVLTree\n",
    "import sys\n",
    "\n",
    "if sys.version_info.major == 2:\n",
    "    pass\n",
    "else:\n",
    "    pass\n",
    "from src.main.hach.MD5 import MD5\n",
    "import pprint"
   ]
  },
  {
   "cell_type": "code",
   "execution_count": null,
   "metadata": {},
   "outputs": [],
   "source": [
    "arbre = BinaryTreeMinHeap()\n",
    "\n",
    "ll = [50, 30, 70, 20, 40, 60, 80, 0, 1]\n",
    "\n",
    "#arbre.ajout_simple(listElem = ll)\n",
    "for e in ll:\n",
    "    arbre.insert(e, mtr=False)\n",
    "#arbre.ConsIter()  # [20, 30, 40, 50, 60, 70, 80]\n",
    "#print('arbre : ', arbre.printTree())\n",
    "print(arbre.isBinaryTreeMinHeap())\n",
    "arbre.plot()"
   ]
  },
  {
   "cell_type": "code",
   "execution_count": null,
   "metadata": {},
   "outputs": [],
   "source": [
    "arbre = BinaryTreeMinHeap()\n",
    "\n",
    "ll = [50, 30, 70, 20, 40, 60, 80, 0, 1]\n",
    "\n",
    "#arbre.ajout_simple(listElem = ll)\n",
    "for e in ll:\n",
    "    arbre.insert(e, mtr=False)\n",
    "#arbre.ConsIter()  # [20, 30, 40, 50, 60, 70, 80]\n",
    "print(arbre.isBinaryTreeMinHeap())\n",
    "arbre.plot()\n",
    "arbre.ConsIter(ll)\n",
    "print('arbre : ', arbre.printTree())\n",
    "\n",
    "arbre.plot()\n"
   ]
  },
  {
   "cell_type": "code",
   "execution_count": null,
   "metadata": {},
   "outputs": [],
   "source": []
  },
  {
   "cell_type": "code",
   "execution_count": null,
   "metadata": {},
   "outputs": [],
   "source": [
    "arbre0 = BinaryTreeMinHeap()\n",
    "\n",
    "arbre0 = Conslter0(arbre0, ll)\n",
    "print(arbre0.printTree())\n",
    "arbre0.plot()"
   ]
  }
 ],
 "metadata": {
  "kernelspec": {
   "display_name": "Python 3",
   "language": "python",
   "name": "python3"
  },
  "language_info": {
   "codemirror_mode": {
    "name": "ipython",
    "version": 3
   },
   "file_extension": ".py",
   "mimetype": "text/x-python",
   "name": "python",
   "nbconvert_exporter": "python",
   "pygments_lexer": "ipython3",
   "version": "3.6.3"
  }
 },
 "nbformat": 4,
 "nbformat_minor": 2
}
